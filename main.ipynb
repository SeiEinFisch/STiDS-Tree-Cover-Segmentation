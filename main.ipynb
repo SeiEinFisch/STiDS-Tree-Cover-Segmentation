{
 "cells": [
  {
   "cell_type": "markdown",
   "id": "b2b9fd66",
   "metadata": {},
   "source": [
    "# SimCLR Tree Segmentation Training and Evaluation"
   ]
  },
  {
   "cell_type": "code",
   "execution_count": null,
   "id": "de2eac07",
   "metadata": {},
   "outputs": [],
   "source": [
    "pip install torchmetrics"
   ]
  },
  {
   "cell_type": "code",
   "execution_count": null,
   "id": "46bf3124",
   "metadata": {},
   "outputs": [],
   "source": [
    "pip install pytorch-metric-learning"
   ]
  },
  {
   "cell_type": "code",
   "execution_count": null,
   "id": "31b4992a",
   "metadata": {},
   "outputs": [],
   "source": [
    "import torch\n",
    "import torch.nn as nn\n",
    "import matplotlib.pyplot as plt\n",
    "from datetime import datetime\n",
    "from pytorch_metric_learning.losses import NTXentLoss\n",
    "\n",
    "from config import device, data_config\n",
    "from data.dataloaders import create_dataloaders\n",
    "from models.encoders import ResNet50Encoder\n",
    "from models.simclr import SimCLRModel, ProjectionHead\n",
    "from models.segmentation import TreeSegmentationModel, BaselineTreeSegmentationModel\n",
    "from training.simclr_trainer import train_simclr\n",
    "from training.segmentation_trainer import train_segmentation, evaluate_segmentation\n",
    "from training.baseline_trainer import train_baseline_segmentation, evaluate_baseline_segmentation\n",
    "from utils.visualization import plot_losses_comparison, visualize_segmentation_results_colored\n",
    "from utils.io_utils import save_comparison_data"
   ]
  },
  {
   "cell_type": "code",
   "execution_count": null,
   "id": "d955ddd7",
   "metadata": {},
   "outputs": [],
   "source": [
    "timestamp = datetime.now().strftime(\"%Y%m%d_%H%M%S\")\n",
    "print(f\"Training run timestamp: {timestamp}\")\n",
    "\n",
    "print(\"Creating data loaders...\")\n",
    "pretrain_loader, seg_train_loader, seg_val_loader = create_dataloaders(**data_config)\n",
    "\n",
    "# Optionally visualize a batch\n",
    "batch = next(iter(seg_train_loader))\n",
    "images, masks = batch[:2]\n",
    "import matplotlib.pyplot as plt\n",
    "plt.figure(figsize=(10,4))\n",
    "plt.subplot(1,2,1), plt.imshow(images[0].permute(1,2,0)), plt.title('Image')\n",
    "plt.subplot(1,2,2), plt.imshow(masks[0][0]), plt.title('Mask')\n",
    "plt.show()"
   ]
  },
  {
   "cell_type": "code",
   "execution_count": null,
   "id": "b129932b",
   "metadata": {},
   "outputs": [],
   "source": [
    "baseline_model = BaselineTreeSegmentationModel(num_classes=2).to(device)\n",
    "baseline_optimizer = torch.optim.Adam(baseline_model.parameters(), lr=1e-4, weight_decay=1e-5)\n",
    "baseline_criterion = nn.CrossEntropyLoss()\n",
    "\n",
    "baseline_train_losses, baseline_val_losses = train_baseline_segmentation(\n",
    "    baseline_model, seg_train_loader, seg_val_loader,\n",
    "    baseline_optimizer, baseline_criterion, device, epochs=15, patience=5\n",
    ")\n",
    "\n",
    "if seg_val_loader is not None:\n",
    "    print(\"Final evaluation on validation set (Baseline)\")\n",
    "    baseline_val_loss, baseline_pixel_acc, baseline_iou_score, baseline_dice_score = evaluate_baseline_segmentation(\n",
    "        baseline_model, seg_val_loader, device\n",
    "    )"
   ]
  },
  {
   "cell_type": "code",
   "execution_count": null,
   "id": "0321e1e0",
   "metadata": {},
   "outputs": [],
   "source": [
    "encoder = ResNet50Encoder(hidden_dim=512)\n",
    "projection_head = ProjectionHead(input_dim=512, hidden_dim=512, output_dim=128)\n",
    "simclr_model = SimCLRModel(encoder, projection_head).to(device)\n",
    "\n",
    "optimizer = torch.optim.Adam(simclr_model.parameters(), lr=1e-3, weight_decay=1e-6)\n",
    "criterion = NTXentLoss(temperature=0.5)\n",
    "simclr_losses = train_simclr(simclr_model, pretrain_loader, optimizer, criterion, device, epochs=50)"
   ]
  },
  {
   "cell_type": "code",
   "execution_count": null,
   "id": "74300ce2",
   "metadata": {},
   "outputs": [],
   "source": [
    "seg_model = TreeSegmentationModel(simclr_model.encoder, num_classes=2).to(device)\n",
    "seg_optimizer = torch.optim.Adam(seg_model.parameters(), lr=1e-4, weight_decay=1e-5)\n",
    "seg_criterion = nn.CrossEntropyLoss()\n",
    "seg_train_losses, seg_val_losses = train_segmentation(\n",
    "    seg_model, seg_train_loader, seg_val_loader,\n",
    "    seg_optimizer, seg_criterion, device, epochs=50, patience=5\n",
    ")\n",
    "\n",
    "if seg_val_loader is not None:\n",
    "    final_val_loss, final_pixel_acc, final_iou_score, final_dice_score = evaluate_segmentation(\n",
    "        seg_model, seg_val_loader, device\n",
    "    )"
   ]
  },
  {
   "cell_type": "code",
   "execution_count": null,
   "id": "efddb235",
   "metadata": {},
   "outputs": [],
   "source": [
    "\n",
    "print(\"\\nBaseline Model Results:\")\n",
    "print(f\"  Final train loss: {baseline_train_losses[-1]:.4f}\")\n",
    "if baseline_val_losses:\n",
    "    print(f\"  Final val loss: {baseline_val_losses[-1]:.4f}\")\n",
    "if seg_val_loader is not None:\n",
    "    print(f\"  Final pixel accuracy: {baseline_pixel_acc:.4f}\")\n",
    "    print(f\"  Final IoU score: {baseline_iou_score:.4f}\")\n",
    "    print(f\"  Final Dice score: {baseline_dice_score:.4f}\")\n",
    "\n",
    "print(\"\\nSimCLR Pretrained Model Results:\")\n",
    "print(f\"  SimCLR final loss: {simclr_losses[-1]:.4f}\")\n",
    "print(f\"  Segmentation final train loss: {seg_train_losses[-1]:.4f}\")\n",
    "if seg_val_losses:\n",
    "    print(f\"  Segmentation final val loss: {seg_val_losses[-1]:.4f}\")\n",
    "if seg_val_loader is not None:\n",
    "    print(f\"  Final pixel accuracy: {final_pixel_acc:.4f}\")\n",
    "    print(f\"  Final IoU score: {final_iou_score:.4f}\")\n",
    "    print(f\"  Final Dice score: {final_dice_score:.4f}\")\n",
    "\n",
    "if seg_val_loader is not None:\n",
    "    iou_improvement = ((final_iou_score - baseline_iou_score) / baseline_iou_score) * 100\n",
    "    dice_improvement = ((final_dice_score - baseline_dice_score) / baseline_dice_score) * 100\n",
    "    acc_improvement = ((final_pixel_acc - baseline_pixel_acc) / baseline_pixel_acc) * 100\n",
    "    print(f\"\\nImprovement with SimCLR pretraining:\")\n",
    "    print(f\"  IoU improvement: {iou_improvement:+.2f}%\")\n",
    "    print(f\"  Dice improvement: {dice_improvement:+.2f}%\")\n",
    "    print(f\"  Pixel accuracy improvement: {acc_improvement:+.2f}%\")\n",
    "\n",
    "# Visualize loss comparison if you have a matplotlib plot function\n",
    "plot_filename = plot_losses_comparison(\n",
    "    simclr_losses, seg_train_losses, baseline_train_losses, timestamp,\n",
    "    baseline_iou_score, baseline_dice_score, baseline_pixel_acc,\n",
    "    final_iou_score, final_dice_score, final_pixel_acc\n",
    ")\n",
    "from IPython.display import Image\n",
    "display(Image(plot_filename))"
   ]
  },
  {
   "cell_type": "code",
   "execution_count": null,
   "id": "3755a595",
   "metadata": {},
   "outputs": [],
   "source": [
    "visualize_segmentation_results_colored(seg_model, seg_val_loader, device, num_images=7)"
   ]
  },
  {
   "cell_type": "code",
   "execution_count": null,
   "id": "027cf13d",
   "metadata": {},
   "outputs": [],
   "source": [
    "baseline_model_path = f'baseline_tree_segmentation_model_{timestamp}.pth'\n",
    "simclr_model_path = f'simclr_pretrained_resnet50_{timestamp}.pth'\n",
    "seg_model_path = f'tree_segmentation_model_resnet50_{timestamp}.pth'\n",
    "torch.save(baseline_model.state_dict(), baseline_model_path)\n",
    "torch.save(simclr_model.state_dict(), simclr_model_path)\n",
    "torch.save(seg_model.state_dict(), seg_model_path)\n",
    "\n",
    "print(f\"\\nModels saved:\")\n",
    "print(f\"  Baseline: {baseline_model_path}\")\n",
    "print(f\"  SimCLR: {simclr_model_path}\")\n",
    "print(f\"  Segmentation: {seg_model_path}\")"
   ]
  }
 ],
 "metadata": {
  "language_info": {
   "name": "python"
  }
 },
 "nbformat": 4,
 "nbformat_minor": 5
}
